{
 "cells": [
  {
   "cell_type": "markdown",
   "id": "9dc1c2ce-7669-4079-8faf-404ce6fa3ee0",
   "metadata": {},
   "source": [
    "                                               ASSIGNMENT 1"
   ]
  },
  {
   "cell_type": "markdown",
   "id": "bf6527bf-ce47-449d-be31-07d2bebe3913",
   "metadata": {},
   "source": [
    "Q1. Create one variable containing following type of data:\n",
    "(i) string\n",
    "(ii) list\n",
    "(iii) float\n",
    "(iv) tuple"
   ]
  },
  {
   "cell_type": "code",
   "execution_count": null,
   "id": "7debf09f-7183-4ef0-860e-b935367011c5",
   "metadata": {},
   "outputs": [],
   "source": [
    "name = \"Aniket Surve\"\n",
    "ListMarks =[\"physics\", \"maths\", \"science\", 95,96,98]\n",
    "fl=34.09\n",
    "tuplemarks=(35,34,\"Aniket\")"
   ]
  },
  {
   "cell_type": "code",
   "execution_count": 1,
   "id": "0e8a3004-496a-4fec-9636-bb7026ea1e12",
   "metadata": {},
   "outputs": [],
   "source": [
    "tuplemarks=(34,35,\"Aniket\")"
   ]
  },
  {
   "cell_type": "code",
   "execution_count": 2,
   "id": "db010d8d-3b93-48c5-a3fe-ae5e162eec3d",
   "metadata": {},
   "outputs": [
    {
     "name": "stdout",
     "output_type": "stream",
     "text": [
      "(34, 35, 'Aniket')\n"
     ]
    }
   ],
   "source": [
    "print(tuplemarks)"
   ]
  },
  {
   "cell_type": "markdown",
   "id": "35e370ba-a90c-4b6f-b68d-0d55f90e61fb",
   "metadata": {},
   "source": [
    "Q2. Given are some following variables containing data:\n",
    "(i) var1 = ‘ ‘\n",
    "(ii) var2 = ‘[ DS , ML , Python]’\n",
    "(iii) var3 = [ ‘DS’ , ’ML’ , ‘Python’ ]\n",
    "(iv) var4 = 1.\n",
    "\n",
    "What will be the data type of the above given variable."
   ]
  },
  {
   "cell_type": "code",
   "execution_count": 3,
   "id": "15782d5d-0b87-4817-8ac8-4a2a08cac69b",
   "metadata": {},
   "outputs": [],
   "source": [
    "var1=' '"
   ]
  },
  {
   "cell_type": "code",
   "execution_count": 4,
   "id": "ec8c6bda-85b8-4a2f-8e3d-9b497b535422",
   "metadata": {},
   "outputs": [
    {
     "name": "stdout",
     "output_type": "stream",
     "text": [
      "<class 'str'>\n"
     ]
    }
   ],
   "source": [
    "print(type(var1))"
   ]
  },
  {
   "cell_type": "code",
   "execution_count": 6,
   "id": "d8ceb416-4615-4fdd-8f5a-8c312dc336fd",
   "metadata": {},
   "outputs": [],
   "source": [
    "var2 = '[ DS , ML , Python]'"
   ]
  },
  {
   "cell_type": "code",
   "execution_count": 7,
   "id": "32fe5ab6-5714-40f8-9851-61b8aa53b9df",
   "metadata": {},
   "outputs": [
    {
     "name": "stdout",
     "output_type": "stream",
     "text": [
      "<class 'str'>\n"
     ]
    }
   ],
   "source": [
    "print(type(var2))"
   ]
  },
  {
   "cell_type": "code",
   "execution_count": 9,
   "id": "e2258ddd-ce19-4dd2-a68b-7feff39490f9",
   "metadata": {},
   "outputs": [],
   "source": [
    "var3 = [ 'DS' , 'ML' , 'Python' ]"
   ]
  },
  {
   "cell_type": "code",
   "execution_count": 10,
   "id": "581e5be9-e147-47b9-b3e8-d8f880130203",
   "metadata": {},
   "outputs": [
    {
     "name": "stdout",
     "output_type": "stream",
     "text": [
      "<class 'list'>\n"
     ]
    }
   ],
   "source": [
    "print(type(var3))"
   ]
  },
  {
   "cell_type": "code",
   "execution_count": 11,
   "id": "4b76d36e-238f-45a2-8a54-a985d21a10b0",
   "metadata": {},
   "outputs": [],
   "source": [
    "var4 = 1"
   ]
  },
  {
   "cell_type": "code",
   "execution_count": 12,
   "id": "807aaa4b-532d-4535-bba2-12283346ba78",
   "metadata": {},
   "outputs": [
    {
     "name": "stdout",
     "output_type": "stream",
     "text": [
      "<class 'int'>\n"
     ]
    }
   ],
   "source": [
    "print(type(var4))"
   ]
  },
  {
   "cell_type": "markdown",
   "id": "b1e074fe-43cf-4560-8099-16ea7cb9a6e6",
   "metadata": {},
   "source": [
    "Q3. Explain the use of the following operators using an example:\n",
    "(i) /\n",
    "(ii) %\n",
    "(iii) //\n",
    "(iv) **"
   ]
  },
  {
   "cell_type": "markdown",
   "id": "ef868049-5032-48cb-adff-3c70d9f773db",
   "metadata": {},
   "source": [
    "The / operator is the division operator in most programming languages. It is used to divide one number by another and obtain the quotient as a result. For example:\n",
    "\n",
    "\n",
    "10 / 3"
   ]
  },
  {
   "cell_type": "markdown",
   "id": "747c6949-7bdd-46b7-84a4-918781327926",
   "metadata": {},
   "source": [
    "The % operator is known as the modulo operator. It is used to find the remainder of the division operation. For example:\n",
    "\n",
    "\n",
    "10 % 3\n",
    "\n",
    "\n",
    "The // operator is known as the floor division operator or integer division operator. It performs division and rounds down the result to the nearest whole number or integer. For example:\n",
    "\n",
    "\n",
    "10 // 3\n",
    "\n",
    "In this example, 10 is divided by 3, and the result is 3\n",
    "\n",
    "\n",
    "The ** operator is the exponentiation operator. It is used to raise a number to a specific power. For example:\n",
    "\n",
    "2 ** 3\n",
    "\n",
    "In this case, 2 is raised to the power of 3, resulting in 8\n"
   ]
  },
  {
   "cell_type": "markdown",
   "id": "ddede477-81be-40e7-ae0f-69598b98937f",
   "metadata": {},
   "source": [
    "Q4. Create a list of length 10 of your choice containing multiple types of data. Using for loop print the\n",
    "element and its data type."
   ]
  },
  {
   "cell_type": "code",
   "execution_count": 13,
   "id": "dbc51b42-563f-49cf-9ee2-60fc9788cd83",
   "metadata": {},
   "outputs": [],
   "source": [
    "ListLength= [98,99,23,23,45,6,6,\"Aniket\",\"Surve\",34.05]"
   ]
  },
  {
   "cell_type": "code",
   "execution_count": 14,
   "id": "94c7aee3-7f48-4250-bd99-47df025d3cde",
   "metadata": {},
   "outputs": [
    {
     "name": "stdout",
     "output_type": "stream",
     "text": [
      "<class 'int'>\n",
      "<class 'int'>\n",
      "<class 'int'>\n",
      "<class 'int'>\n",
      "<class 'int'>\n",
      "<class 'int'>\n",
      "<class 'int'>\n",
      "<class 'str'>\n",
      "<class 'str'>\n",
      "<class 'float'>\n"
     ]
    }
   ],
   "source": [
    "for i in ListLength:\n",
    "    print(type(i))"
   ]
  },
  {
   "cell_type": "markdown",
   "id": "452ff784-ea59-4651-87a5-a83b25278147",
   "metadata": {},
   "source": [
    "Q5. Using a while loop, verify if the number A is purely divisible by number B and if so then how many\n",
    "times it can be divisible."
   ]
  },
  {
   "cell_type": "code",
   "execution_count": 16,
   "id": "a898f046-d7e0-49b8-81d3-7f308f5cae89",
   "metadata": {},
   "outputs": [
    {
     "name": "stdout",
     "output_type": "stream",
     "text": [
      "Number of times 4 divides 6 is 1\n"
     ]
    }
   ],
   "source": [
    "A=24\n",
    "B=4\n",
    "count =0\n",
    "\n",
    "while A%B==0:\n",
    "    A=A//B\n",
    "    count+=1\n",
    "print(\"Number of times\", B, \"divides\" ,A, \"is\", count)"
   ]
  },
  {
   "cell_type": "markdown",
   "id": "af30af4b-ac57-48c4-9c91-f1b8bd8139d9",
   "metadata": {},
   "source": [
    "Q6. Create a list containing 25 int type data. Using for loop and if-else condition print if the element is\n",
    "divisible by 3 or not."
   ]
  },
  {
   "cell_type": "code",
   "execution_count": 17,
   "id": "c7848995-a08e-45d6-ae3f-993c8788dae8",
   "metadata": {},
   "outputs": [
    {
     "name": "stdout",
     "output_type": "stream",
     "text": [
      "number is not divisible by three\n",
      "number is divisible by three\n",
      "number is divisible by three\n",
      "number is divisible by three\n",
      "number is divisible by three\n",
      "number is not divisible by three\n",
      "number is divisible by three\n",
      "number is divisible by three\n",
      "number is divisible by three\n",
      "number is not divisible by three\n",
      "number is divisible by three\n",
      "number is divisible by three\n",
      "number is divisible by three\n",
      "number is not divisible by three\n",
      "number is divisible by three\n",
      "number is divisible by three\n",
      "number is divisible by three\n",
      "number is divisible by three\n",
      "number is not divisible by three\n",
      "number is not divisible by three\n",
      "number is not divisible by three\n",
      "number is not divisible by three\n",
      "number is not divisible by three\n",
      "number is not divisible by three\n",
      "number is not divisible by three\n"
     ]
    }
   ],
   "source": [
    "numbers = [7,9,12,15,18,19,24,30,33,34,45,60,12,32,36,39,42,48,38,31,11,56,5,7,58]\n",
    "\n",
    "for number in numbers:\n",
    "    if number%3==0:\n",
    "        print(\"number is divisible by three\")\n",
    "    else:\n",
    "        print(\"number is not divisible by three\")"
   ]
  },
  {
   "cell_type": "markdown",
   "id": "7cfdbb86-7711-4bbc-8117-b22cb7603d5b",
   "metadata": {},
   "source": [
    "Q7. What do you understand about mutable and immutable data types? Give examples for both showing\n",
    "this property."
   ]
  },
  {
   "cell_type": "code",
   "execution_count": 18,
   "id": "5d3632d5-cad0-4a2f-839c-caa2f0e7abd3",
   "metadata": {},
   "outputs": [],
   "source": [
    "l=[2,3,4,5,\"Ani\",\"Sur\"]"
   ]
  },
  {
   "cell_type": "code",
   "execution_count": 20,
   "id": "88c5d062-54c9-423a-80cc-30ede16c557b",
   "metadata": {},
   "outputs": [
    {
     "data": {
      "text/plain": [
       "4"
      ]
     },
     "execution_count": 20,
     "metadata": {},
     "output_type": "execute_result"
    }
   ],
   "source": [
    "l[2]"
   ]
  },
  {
   "cell_type": "code",
   "execution_count": 21,
   "id": "05dd96a3-5ca7-4652-b503-a10535e31807",
   "metadata": {},
   "outputs": [],
   "source": [
    "l[2]=\"Physics\""
   ]
  },
  {
   "cell_type": "code",
   "execution_count": 22,
   "id": "984695a6-a5f0-47c0-8706-62e83b0696e9",
   "metadata": {},
   "outputs": [
    {
     "data": {
      "text/plain": [
       "[2, 3, 'Physics', 5, 'Ani', 'Sur']"
      ]
     },
     "execution_count": 22,
     "metadata": {},
     "output_type": "execute_result"
    }
   ],
   "source": [
    "l"
   ]
  },
  {
   "cell_type": "markdown",
   "id": "d6e6abf5-27bb-43c6-92c4-b246723832e5",
   "metadata": {},
   "source": [
    "Lists are mutuable above example is of mutuable datatype"
   ]
  },
  {
   "cell_type": "code",
   "execution_count": null,
   "id": "b028a55c-41a4-46e8-81d1-ae818919b975",
   "metadata": {},
   "outputs": [],
   "source": [
    "Immutable DataType Example"
   ]
  },
  {
   "cell_type": "code",
   "execution_count": 23,
   "id": "ee62ac58-9010-436f-bb01-322b231689ee",
   "metadata": {},
   "outputs": [],
   "source": [
    "s=\"name\""
   ]
  },
  {
   "cell_type": "code",
   "execution_count": 24,
   "id": "099b0e63-ce5d-4fb6-a400-5513e691123f",
   "metadata": {},
   "outputs": [
    {
     "name": "stdout",
     "output_type": "stream",
     "text": [
      "name\n"
     ]
    }
   ],
   "source": [
    "print(s)"
   ]
  },
  {
   "cell_type": "code",
   "execution_count": 25,
   "id": "bcbffdb3-ea22-49f1-aa8c-73df1e7e0118",
   "metadata": {},
   "outputs": [],
   "source": [
    "s=\"ani\""
   ]
  },
  {
   "cell_type": "code",
   "execution_count": 26,
   "id": "b9425fbf-42a2-4292-9b26-0497fac95ea6",
   "metadata": {},
   "outputs": [
    {
     "name": "stdout",
     "output_type": "stream",
     "text": [
      "ani\n"
     ]
    }
   ],
   "source": [
    "print(s)"
   ]
  },
  {
   "cell_type": "markdown",
   "id": "df367869-56df-4033-8d49-7825a0865422",
   "metadata": {},
   "source": [
    "Mutable data types are those whose values can be changed or modified after they are created. This means you can modify individual elements or attributes within the data structure without creating a new instance\n",
    "Immutable data types are those whose values cannot be changed or modified after they are created. If you need to modify the value, you have to create a completely new instance of the data type. Immutable objects, once created, remain unchanged throughout their lifetime."
   ]
  }
 ],
 "metadata": {
  "kernelspec": {
   "display_name": "Python 3 (ipykernel)",
   "language": "python",
   "name": "python3"
  },
  "language_info": {
   "codemirror_mode": {
    "name": "ipython",
    "version": 3
   },
   "file_extension": ".py",
   "mimetype": "text/x-python",
   "name": "python",
   "nbconvert_exporter": "python",
   "pygments_lexer": "ipython3",
   "version": "3.10.8"
  }
 },
 "nbformat": 4,
 "nbformat_minor": 5
}
