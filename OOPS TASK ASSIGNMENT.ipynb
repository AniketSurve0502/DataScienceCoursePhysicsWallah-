{
 "cells": [
  {
   "cell_type": "markdown",
   "id": "74fde7c9-daf8-4e9c-9502-d366468a56ef",
   "metadata": {},
   "source": [
    "Q1, Create a vehicle class with an init method having instance variables as name_of_vehicle, max_speed\n",
    "and average_of_vehicle."
   ]
  },
  {
   "cell_type": "code",
   "execution_count": 1,
   "id": "21357380-4173-4937-bfc2-7919dbf362bf",
   "metadata": {},
   "outputs": [],
   "source": [
    "class Vehicle:\n",
    "    def __init__(self, name_of_vehicle, max_speed, average_of_vehicle):\n",
    "        self.name_of_vehicle = name_of_vehicle\n",
    "        self.max_speed = max_speed\n",
    "        self.average_of_vehicle = average_of_vehicle"
   ]
  },
  {
   "cell_type": "code",
   "execution_count": 2,
   "id": "c755e248-a8f4-4145-999d-961fae915fd9",
   "metadata": {},
   "outputs": [
    {
     "name": "stdout",
     "output_type": "stream",
     "text": [
      "Name: Toyota Corolla\n",
      "Max Speed: 180\n",
      "Average MPG: 30\n"
     ]
    }
   ],
   "source": [
    "car = Vehicle(\"Toyota Corolla\", 180, 30)\n",
    "\n",
    "# Accessing instance variables\n",
    "print(\"Name:\", car.name_of_vehicle)\n",
    "print(\"Max Speed:\", car.max_speed)\n",
    "print(\"Average MPG:\", car.average_of_vehicle)"
   ]
  },
  {
   "cell_type": "markdown",
   "id": "421b4570-da19-4037-b9ab-30c27609a727",
   "metadata": {},
   "source": [
    "Q2. Create a child class car from the vehicle class created in Que 1, which will inherit the vehicle class.\n",
    "Create a method named seating_capacity which takes capacity as an argument and returns the name of\n",
    "the vehicle and its seating capacity."
   ]
  },
  {
   "cell_type": "code",
   "execution_count": 3,
   "id": "dbaa9f97-d120-4e6f-a046-03765b07ec01",
   "metadata": {},
   "outputs": [],
   "source": [
    "class Vehicle:\n",
    "    def __init__(self, name_of_vehicle, max_speed, average_of_vehicle):\n",
    "        self.name_of_vehicle = name_of_vehicle\n",
    "        self.max_speed = max_speed\n",
    "        self.average_of_vehicle = average_of_vehicle\n",
    "\n",
    "class Car(Vehicle):\n",
    "    def seating_capacity(self, capacity):\n",
    "        return f\"{self.name_of_vehicle} has a seating capacity of {capacity} people.\"\n"
   ]
  },
  {
   "cell_type": "code",
   "execution_count": 4,
   "id": "a5a8c7cb-2135-46c8-8232-29491e9b37b5",
   "metadata": {},
   "outputs": [
    {
     "name": "stdout",
     "output_type": "stream",
     "text": [
      "Toyota Corolla has a seating capacity of 5 people.\n"
     ]
    }
   ],
   "source": [
    "my_car = Car(\"Toyota Corolla\", 180, 30)\n",
    "\n",
    "# Call the seating_capacity method\n",
    "capacity_info = my_car.seating_capacity(5)\n",
    "\n",
    "# Print the result\n",
    "print(capacity_info)"
   ]
  },
  {
   "cell_type": "markdown",
   "id": "7f994944-02c9-465c-9c2b-2dcb7a2f0697",
   "metadata": {},
   "source": [
    "Q3. What is multiple inheritance? Write a python code to demonstrate multiple inheritance"
   ]
  },
  {
   "cell_type": "markdown",
   "id": "36b5f97c-72cf-4117-bab9-55e2edcedf56",
   "metadata": {},
   "source": [
    "Multiple inheritance is a feature in object-oriented programming where a class can inherit attributes and behaviors from more than one parent class. In Python, you can create a new class that inherits from multiple parent classes by listing them in the class definition. This allows the child class to access and use the attributes and methods from all of its parent classes."
   ]
  },
  {
   "cell_type": "code",
   "execution_count": 5,
   "id": "b8550177-4848-43f2-a5a4-c3e3b39b456b",
   "metadata": {},
   "outputs": [
    {
     "name": "stdout",
     "output_type": "stream",
     "text": [
      "Toyota Corolla with Petrol engine has a maximum speed of 180 km/h.\n",
      "Toyota Corolla is starting.\n",
      "Petrol engine is running.\n"
     ]
    }
   ],
   "source": [
    "# Parent class 1\n",
    "class Vehicle:\n",
    "    def __init__(self, name_of_vehicle, max_speed):\n",
    "        self.name_of_vehicle = name_of_vehicle\n",
    "        self.max_speed = max_speed\n",
    "\n",
    "    def start(self):\n",
    "        return f\"{self.name_of_vehicle} is starting.\"\n",
    "\n",
    "# Parent class 2\n",
    "class Engine:\n",
    "    def __init__(self, engine_type):\n",
    "        self.engine_type = engine_type\n",
    "\n",
    "    def run(self):\n",
    "        return f\"{self.engine_type} engine is running.\"\n",
    "\n",
    "# Child class inheriting from both Vehicle and Engine\n",
    "class Car(Vehicle, Engine):\n",
    "    def __init__(self, name_of_vehicle, max_speed, engine_type):\n",
    "        # Call the __init__ methods of both parent classes\n",
    "        Vehicle.__init__(self, name_of_vehicle, max_speed)\n",
    "        Engine.__init__(self, engine_type)\n",
    "\n",
    "    def display_info(self):\n",
    "        return f\"{self.name_of_vehicle} with {self.engine_type} engine has a maximum speed of {self.max_speed} km/h.\"\n",
    "\n",
    "# Creating an object of the Car class and using its methods\n",
    "my_car = Car(\"Toyota Corolla\", 180, \"Petrol\")\n",
    "print(my_car.display_info())\n",
    "print(my_car.start())\n",
    "print(my_car.run())\n"
   ]
  },
  {
   "cell_type": "markdown",
   "id": "a950729a-b371-4d28-8ca7-4513cf449e81",
   "metadata": {},
   "source": [
    "Q4. What are getter and setter in python? Create a class and create a getter and a setter method in this\n",
    "class."
   ]
  },
  {
   "cell_type": "markdown",
   "id": "7aa575c7-fd9d-45f7-a500-2805bfceead1",
   "metadata": {},
   "source": [
    "In Python, getter and setter methods are used to access and modify the attributes (instance variables) of a class in a controlled way. They provide an additional layer of encapsulation and allow you to define specific rules for accessing and updating the attributes.\n",
    "\n",
    "A getter method is responsible for getting the value of an attribute, and it is used to access the value from outside the class. A setter method, on the other hand, is responsible for setting the value of an attribute, and it is used to modify the value from outside the class while enforcing certain conditions, if needed."
   ]
  },
  {
   "cell_type": "code",
   "execution_count": 6,
   "id": "c25642a8-9c7e-4c25-8728-e0194cd414d9",
   "metadata": {},
   "outputs": [
    {
     "name": "stdout",
     "output_type": "stream",
     "text": [
      "Name: John Doe\n",
      "Age: 30\n",
      "Name: Jane Doe\n",
      "Age: 25\n",
      "Invalid name format. Name must be a non-empty string.\n",
      "Invalid age format. Age must be a non-negative integer.\n"
     ]
    }
   ],
   "source": [
    "class Person:\n",
    "    def __init__(self, name, age):\n",
    "        self._name = name\n",
    "        self._age = age\n",
    "\n",
    "    # Getter method for the 'name' attribute\n",
    "    def get_name(self):\n",
    "        return self._name\n",
    "\n",
    "    # Setter method for the 'name' attribute\n",
    "    def set_name(self, name):\n",
    "        if isinstance(name, str) and len(name) > 0:\n",
    "            self._name = name\n",
    "        else:\n",
    "            print(\"Invalid name format. Name must be a non-empty string.\")\n",
    "\n",
    "    # Getter method for the 'age' attribute\n",
    "    def get_age(self):\n",
    "        return self._age\n",
    "\n",
    "    # Setter method for the 'age' attribute\n",
    "    def set_age(self, age):\n",
    "        if isinstance(age, int) and age >= 0:\n",
    "            self._age = age\n",
    "        else:\n",
    "            print(\"Invalid age format. Age must be a non-negative integer.\")\n",
    "\n",
    "# Creating an object of the Person class\n",
    "person = Person(\"John Doe\", 30)\n",
    "\n",
    "# Using the getter methods to access the attributes\n",
    "print(\"Name:\", person.get_name())\n",
    "print(\"Age:\", person.get_age())\n",
    "\n",
    "# Using the setter methods to modify the attributes\n",
    "person.set_name(\"Jane Doe\")\n",
    "person.set_age(25)\n",
    "\n",
    "# Using the getter methods again to check the updated attributes\n",
    "print(\"Name:\", person.get_name())\n",
    "print(\"Age:\", person.get_age())\n",
    "\n",
    "# Trying to set invalid values using the setter methods\n",
    "person.set_name(\"\")  # This will print an error message\n",
    "person.set_age(-5)   # This will print an error message\n"
   ]
  },
  {
   "cell_type": "markdown",
   "id": "7d5712ed-c86d-47dc-bd98-afb6911c35f3",
   "metadata": {},
   "source": [
    "Q5.What is method overriding in python? Write a python code to demonstrate method overriding."
   ]
  }
 ],
 "metadata": {
  "kernelspec": {
   "display_name": "Python 3 (ipykernel)",
   "language": "python",
   "name": "python3"
  },
  "language_info": {
   "codemirror_mode": {
    "name": "ipython",
    "version": 3
   },
   "file_extension": ".py",
   "mimetype": "text/x-python",
   "name": "python",
   "nbconvert_exporter": "python",
   "pygments_lexer": "ipython3",
   "version": "3.10.8"
  }
 },
 "nbformat": 4,
 "nbformat_minor": 5
}
