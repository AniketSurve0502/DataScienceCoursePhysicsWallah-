{
 "cells": [
  {
   "cell_type": "code",
   "execution_count": null,
   "id": "19c7cbd6-ee92-4bc5-948b-d79b66cf999b",
   "metadata": {},
   "outputs": [],
   "source": [
    "Explain Class and Object with respect to Object-Oriented Programming. Give a suitable example."
   ]
  },
  {
   "cell_type": "markdown",
   "id": "db46bc58-0439-45b3-8c79-e9e76d7de89e",
   "metadata": {},
   "source": [
    "In object-oriented programming (OOP), a class is a blueprint or template for creating objects. It defines the common properties (attributes) and behaviors (methods) that objects of that class will have. A class serves as a logical structure that encapsulates data and functionality, allowing multiple instances (objects) to be created based on the same class definition.\n",
    "\n",
    "An object, on the other hand, is an instance of a class. It is a tangible entity that can be created and manipulated in a program. When you create an object, you are essentially creating a specific occurrence of the class, with its own set of attribute values.\n",
    "\n",
    "Here's a simple example to illustrate the concept:\n",
    "\n",
    "\n",
    "# Define a class\n",
    "class Car:\n",
    "    def __init__(self, brand, color):\n",
    "        self.brand = brand\n",
    "        self.color = color\n",
    "\n",
    "    def start_engine(self):\n",
    "        print(\"The\", self.color, self.brand, \"car's engine is running.\")\n",
    "\n",
    "# Create objects (instances) of the class\n",
    "car1 = Car(\"Toyota\", \"blue\")\n",
    "car2 = Car(\"BMW\", \"red\")"
   ]
  },
  {
   "cell_type": "markdown",
   "id": "1e4766c6-e62d-4825-99ea-9adc600d5e28",
   "metadata": {},
   "source": [
    "Q2. Name the four pillars of OOPs."
   ]
  },
  {
   "cell_type": "markdown",
   "id": "f39216f8-3721-4b9d-b813-3209d9a822ce",
   "metadata": {},
   "source": [
    "The four pillars of object-oriented programming (OOP) are:\n",
    "\n",
    "Encapsulation: Encapsulation refers to the bundling of data and methods within a class. It involves hiding the internal details and implementation of an object and exposing only the necessary interfaces or methods to interact with it. Encapsulation helps in achieving data abstraction, data security, and code maintainability.\n",
    "\n",
    "Inheritance: Inheritance is a mechanism that allows a class (called a subclass or derived class) to inherit properties and behaviors from another class (called a superclass or base class). The subclass can reuse and extend the attributes and methods of the superclass, promoting code reusability and establishing an \"is-a\" relationship between classes. Inheritance supports hierarchical organization and enables the creation of specialized classes based on existing ones.\n",
    "\n",
    "Polymorphism: Polymorphism means the ability of objects of different classes to respond to the same message or method call in different ways. It allows objects to exhibit different behaviors based on their own specific implementation of the method. Polymorphism promotes code flexibility, extensibility, and the ability to write generic code that can operate on objects of different types.\n",
    "\n",
    "Abstraction: Abstraction is the process of simplifying complex systems by representing essential features and hiding unnecessary details. It involves creating abstract classes or interfaces that define common characteristics and behaviors without specifying the implementation. Abstraction helps in managing complexity, modularizing code, and focusing on high-level concepts while ignoring low-level implementation details. It allows programmers to work with abstract concepts rather than dealing with intricate implementation complexities.\n",
    "\n",
    "These four pillars collectively provide a foundation for designing and implementing modular, reusable, and maintainable software systems using object-oriented principles."
   ]
  },
  {
   "cell_type": "markdown",
   "id": "4122b194-4472-41a6-958a-3776aaaa2e07",
   "metadata": {},
   "source": [
    "Q3. Explain why the __init__() function is used. Give a suitable example."
   ]
  },
  {
   "cell_type": "markdown",
   "id": "5eb4cd1a-753a-45fc-b814-6d3b790405ba",
   "metadata": {},
   "source": [
    "\n",
    "The __init__() function is a special method in Python classes that is automatically called when an object is created from the class. It is also known as the constructor method. The purpose of the __init__() function is to initialize the attributes of an object with specific values when it is created.\n",
    "\n",
    "Here's an example to illustrate the usage of the __init__() function:\n",
    "\n",
    "\n",
    "class Person:\n",
    "    def __init__(self, name, age):\n",
    "        self.name = name\n",
    "        self.age = age\n",
    "\n",
    "    def introduce(self):\n",
    "        print(\"Hi, my name is\", self.name, \"and I am\", self.age, \"years old.\")\n",
    "\n",
    "# Create an object and initialize its attributes using the __init__() function\n",
    "person1 = Person(\"Alice\", 25)\n",
    "\n",
    "# Access object attributes\n",
    "print(person1.name)  # Output: Alice\n",
    "print(person1.age)   # Output: 25"
   ]
  },
  {
   "cell_type": "markdown",
   "id": "a0c59c2c-5224-4769-b28d-f6cbf82c5b62",
   "metadata": {},
   "source": [
    "Q4. Why self is used in OOPs?"
   ]
  },
  {
   "cell_type": "markdown",
   "id": "50e30b71-8d0a-4afc-b60c-f7b29b1f0e0f",
   "metadata": {},
   "source": [
    "\n",
    "In object-oriented programming (OOP), the self keyword is used as a reference to the instance of the class. It is a conventional name and widely used, although any other valid identifier can be used instead of self. The purpose of self is to allow access to the attributes and methods of an object within the class.\n",
    "\n",
    "When a method is called on an object, the self parameter is implicitly passed as the first argument to the method. This allows the method to operate on the specific instance of the class that invoked it. By using self, you can access and modify the object's attributes, call its methods, and perform operations specific to that instance.\n",
    "\n",
    "Here's an example to illustrate the usage of self:\n",
    "\n",
    "\n",
    "class Circle:\n",
    "    def __init__(self, radius):\n",
    "        self.radius = radius\n",
    "\n",
    "    def calculate_area(self):\n",
    "        area = 3.14 * self.radius * self.radius\n",
    "        return area\n",
    "\n",
    "# Create an object and access its attributes and methods using self\n",
    "circle1 = Circle(5)\n",
    "print(circle1.radius)           # Output: 5\n",
    "print(circle1.calculate_area()) # Output: 78.5"
   ]
  },
  {
   "cell_type": "markdown",
   "id": "faa8d8b4-0719-4f72-998d-628cf80d7ead",
   "metadata": {},
   "source": [
    "Q5. What is inheritance? Give an example for each type of inheritance."
   ]
  },
  {
   "cell_type": "markdown",
   "id": "a2f68409-defb-4a05-872d-6831c7accf62",
   "metadata": {},
   "source": [
    "Inheritance is a fundamental concept in object-oriented programming (OOP) that allows a class to inherit properties and behaviors from another class. The class that inherits is called the subclass or derived class, and the class from which it inherits is called the superclass or base class. Inheritance promotes code reusability, modularity, and the establishment of \"is-a\" relationships between classes.\n",
    "\n",
    "There are different types of inheritance, each serving specific purposes. The main types of inheritance are:\n",
    "\n",
    "Single Inheritance: In single inheritance, a subclass inherits from a single superclass. It forms a hierarchical relationship between classes, where the subclass extends the superclass by adding or modifying its attributes and methods. Single inheritance is the most common form of inheritance.\n",
    "Example:\n",
    "\n",
    "\n",
    "class Animal:\n",
    "    def __init__(self, name):\n",
    "        self.name = name\n",
    "\n",
    "    def eat(self):\n",
    "        print(self.name, \"is eating.\")\n",
    "\n",
    "\n",
    "class Dog(Animal):\n",
    "    def bark(self):\n",
    "        print(\"Woof!\")\n",
    "\n",
    "\n",
    "dog = Dog(\"Buddy\")\n",
    "dog.eat()  # Output: Buddy is eating.\n",
    "dog.bark()  # Output: Woof!\n",
    "In this example, the Animal class is the superclass, and the Dog class is the subclass that inherits from Animal. The Dog class extends the Animal class by adding a new method called bark. The Dog class inherits the eat method from the Animal class.\n",
    "\n",
    "Multilevel Inheritance: In multilevel inheritance, a subclass inherits from another subclass, forming a chain of inheritance. Each subclass extends the superclass above it, creating a hierarchy of classes.\n",
    "Example:\n",
    "\n",
    "\n",
    "class Animal:\n",
    "    def __init__(self, name):\n",
    "        self.name = name\n",
    "\n",
    "    def eat(self):\n",
    "        print(self.name, \"is eating.\")\n",
    "\n",
    "\n",
    "class Dog(Animal):\n",
    "    def bark(self):\n",
    "        print(\"Woof!\")\n",
    "\n",
    "\n",
    "class Bulldog(Dog):\n",
    "    def guard(self):\n",
    "        print(\"I am a Bulldog, I can guard.\")\n",
    "\n",
    "\n",
    "bulldog = Bulldog(\"Spike\")\n",
    "bulldog.eat()  # Output: Spike is eating.\n",
    "bulldog.bark()  # Output: Woof!\n",
    "bulldog.guard()  # Output: I am a Bulldog, I can guard.\n",
    "In this example, the Animal class is the superclass, the Dog class is the subclass that inherits from Animal, and the Bulldog class is a further subclass that inherits from Dog. Each subclass extends the superclass above it and inherits the attributes and methods.\n",
    "\n",
    "Multiple Inheritance: Multiple inheritance allows a subclass to inherit from multiple superclasses. It enables a class to combine and inherit attributes and behaviors from multiple sources. Multiple inheritance can be powerful but also increases the complexity of code.\n",
    "Example:\n",
    "\n",
    "\n",
    "class Swimmer:\n",
    "    def swim(self):\n",
    "        print(\"Swimming...\")\n",
    "\n",
    "\n",
    "class Walker:\n",
    "    def walk(self):\n",
    "        print(\"Walking...\")\n",
    "\n",
    "\n",
    "class Amphibian(Swimmer, Walker):\n",
    "    pass\n",
    "\n",
    "\n",
    "amphibian = Amphibian()\n",
    "amphibian.swim()  # Output: Swimming...\n",
    "amphibian.walk()  # Output: Walking...\n",
    "In this example, we have two superclasses: Swimmer and Walker. The Amphibian class inherits from both superclasses, allowing instances of Amphibian to access methods from both Swimmer and Walker.\n",
    "\n",
    "These are the three common types of inheritance in OOP. Each type provides different ways to extend and reuse code, allowing for flexible and modular class design."
   ]
  }
 ],
 "metadata": {
  "kernelspec": {
   "display_name": "Python 3 (ipykernel)",
   "language": "python",
   "name": "python3"
  },
  "language_info": {
   "codemirror_mode": {
    "name": "ipython",
    "version": 3
   },
   "file_extension": ".py",
   "mimetype": "text/x-python",
   "name": "python",
   "nbconvert_exporter": "python",
   "pygments_lexer": "ipython3",
   "version": "3.10.8"
  }
 },
 "nbformat": 4,
 "nbformat_minor": 5
}
